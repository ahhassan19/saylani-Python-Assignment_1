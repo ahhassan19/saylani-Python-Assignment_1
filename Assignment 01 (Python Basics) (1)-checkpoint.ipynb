{
 "cells": [
  {
   "cell_type": "markdown",
   "metadata": {},
   "source": [
    "# Part -1 Python Basics (Variables)"
   ]
  },
  {
   "cell_type": "markdown",
   "metadata": {},
   "source": [
    "1. Print Your Name with your Father name and Date of birth using suitable escape sequence charactor"
   ]
  },
  {
   "cell_type": "code",
   "execution_count": 9,
   "metadata": {},
   "outputs": [
    {
     "name": "stdout",
     "output_type": "stream",
     "text": [
      " Ahmed hassan \n",
      " Muhammad Najam ud din \n",
      " 14 august 2003\n"
     ]
    }
   ],
   "source": [
    "print(\" Ahmed hassan \\n Muhammad Najam ud din \\n 14 august 2003\")"
   ]
  },
  {
   "cell_type": "markdown",
   "metadata": {},
   "source": [
    "2. Write your small bio using variables and print it using print function"
   ]
  },
  {
   "cell_type": "code",
   "execution_count": 19,
   "metadata": {},
   "outputs": [
    {
     "name": "stdout",
     "output_type": "stream",
     "text": [
      "Name  :Ahmed Hassan\n",
      "F_Name  :M Najam ud din \n",
      "DOB  :14 august 2003\n"
     ]
    }
   ],
   "source": [
    "name = \"Ahmed Hassan\"\n",
    "f_name = \"M Najam ud din\"\n",
    "dob = \"14 august 2003\"\n",
    "print(\"Name  :\"+name  +\"\\nF_Name  :\"+ f_name+\" \"+\"\\nDOB  :\" + dob)"
   ]
  },
  {
   "cell_type": "markdown",
   "metadata": {},
   "source": [
    "3. Write a program in which use all the operators we can use in Python"
   ]
  },
  {
   "cell_type": "code",
   "execution_count": 21,
   "metadata": {},
   "outputs": [
    {
     "name": "stdout",
     "output_type": "stream",
     "text": [
      "4\n",
      "2\n",
      "4\n",
      "5.0\n"
     ]
    }
   ],
   "source": [
    "a=2+2\n",
    "print(a)\n",
    "b=4-2\n",
    "print(b)\n",
    "c=2*2\n",
    "print(c)\n",
    "d=10/2\n",
    "print(d)"
   ]
  },
  {
   "cell_type": "markdown",
   "metadata": {},
   "source": [
    "4. Completes the following steps of small task:\n",
    "    - Mention Marks of English , Islamiat and Maths out of 100 in 3 different variables\n",
    "    - Mention Variable of Total Marks and assign 300 to it\n",
    "    - Calculate Percentage"
   ]
  },
  {
   "cell_type": "code",
   "execution_count": 27,
   "metadata": {},
   "outputs": [
    {
     "name": "stdout",
     "output_type": "stream",
     "text": [
      "88.33333333333333\n"
     ]
    }
   ],
   "source": [
    "English=90\n",
    "Islamiat=80\n",
    "Math =95\n",
    "total=300\n",
    "per=((English+Islamiat+Math)/300)*100\n",
    "print(per)\n"
   ]
  },
  {
   "cell_type": "markdown",
   "metadata": {},
   "source": [
    "# Part -2 Python Basics (Conditional Statements)"
   ]
  },
  {
   "cell_type": "markdown",
   "metadata": {},
   "source": [
    "1) A company decided to give bonus of 5% to employee if his/her year of service is more than 5 years.\n",
    "Ask user for their salary and year of service and print the net bonus amount."
   ]
  },
  {
   "cell_type": "code",
   "execution_count": 44,
   "metadata": {},
   "outputs": [
    {
     "name": "stdin",
     "output_type": "stream",
     "text": [
      "ENTER YOUR SERVICES YEAR  7\n",
      "ENTER YOUR SALARY  10000\n"
     ]
    },
    {
     "name": "stdout",
     "output_type": "stream",
     "text": [
      "Congratulation for serve : you awarded bonus 500.0 \n"
     ]
    }
   ],
   "source": [
    "servic_year=int(input(\"ENTER YOUR SERVICES YEAR \"))\n",
    "salary=int(input(\"ENTER YOUR SALARY \"))\n",
    "if servic_year>5 and salary:\n",
    "    bonus=0.05*salary\n",
    "    print(f\"Congratulation for serve : you awarded bonus { bonus} \")\n",
    "else :\n",
    "    print(\"THANKS FOR SERVING\")\n",
    "    "
   ]
  },
  {
   "cell_type": "markdown",
   "metadata": {},
   "source": [
    "\n",
    "2) Write a program to check whether a person is eligible for voting or not. (accept age from user) if age is greater than 17 eligible otherwise not eligible"
   ]
  },
  {
   "cell_type": "code",
   "execution_count": 49,
   "metadata": {},
   "outputs": [
    {
     "name": "stdin",
     "output_type": "stream",
     "text": [
      "ENTER YOUR AGE   18\n"
     ]
    },
    {
     "name": "stdout",
     "output_type": "stream",
     "text": [
      "YES : YOU ARE ELIGIBLE\n"
     ]
    }
   ],
   "source": [
    "Age=int(input(\"ENTER YOUR AGE  \"))\n",
    "if Age >17:\n",
    "    \n",
    "    print (\"YES : YOU ARE ELIGIBLE\")\n",
    "else :\n",
    "    print(\"NOPE YOU ARE NOT ELIGIBLE\")\n",
    "    "
   ]
  },
  {
   "cell_type": "markdown",
   "metadata": {},
   "source": [
    "\n",
    "3) Write a program to check whether a number entered by user is even or odd."
   ]
  },
  {
   "cell_type": "code",
   "execution_count": 53,
   "metadata": {},
   "outputs": [
    {
     "name": "stdin",
     "output_type": "stream",
     "text": [
      "ENTER YOUR AGE   2\n"
     ]
    },
    {
     "name": "stdout",
     "output_type": "stream",
     "text": [
      "YES : ITS EVEN NUMBER\n"
     ]
    }
   ],
   "source": [
    "Number=int(input(\"ENTER YOUR AGE  \"))\n",
    "if Number % 2==0:\n",
    "\n",
    "    print (\"YES : ITS EVEN NUMBER\")\n",
    "else :\n",
    "    print(\"ITS ODD NUMBER\")\n",
    "    "
   ]
  },
  {
   "cell_type": "markdown",
   "metadata": {},
   "source": [
    "4) Write a program to check whether a number is divisible by 7 or not.\n",
    "Show Answer"
   ]
  },
  {
   "cell_type": "code",
   "execution_count": 60,
   "metadata": {},
   "outputs": [
    {
     "name": "stdin",
     "output_type": "stream",
     "text": [
      "ENTER YOUR AGE   7\n"
     ]
    },
    {
     "name": "stdout",
     "output_type": "stream",
     "text": [
      "ITS NOT DIVISIBLE BY 7 :7\n"
     ]
    }
   ],
   "source": [
    "Number=int(input(\"ENTER YOUR AGE  \"))\n",
    "if Number % 7==0:\n",
    "\n",
    "    print (f\"YES : ITS DIVISIBLE BY : {Number}  \")\n",
    "else :\n",
    "    print(f\"ITS NOT DIVISIBLE BY 7 :{ Number}\")\n",
    "    "
   ]
  },
  {
   "cell_type": "markdown",
   "metadata": {},
   "source": [
    "5) Write a program to display \n",
    "\"Hello\" if a number entered by user is a multiple of five , otherwise print \"Bye\"."
   ]
  },
  {
   "cell_type": "code",
   "execution_count": 63,
   "metadata": {},
   "outputs": [
    {
     "name": "stdin",
     "output_type": "stream",
     "text": [
      "ENTER YOUR AGE   10\n"
     ]
    },
    {
     "name": "stdout",
     "output_type": "stream",
     "text": [
      "HELLO\n"
     ]
    }
   ],
   "source": [
    "Number=int(input(\"ENTER YOUR AGE  \"))\n",
    "if Number %5 ==0:\n",
    "\n",
    "    print ( \"HELLO\")\n",
    "else :\n",
    "    print(\"Bye\")"
   ]
  },
  {
   "cell_type": "markdown",
   "metadata": {},
   "source": [
    "7) Write a program to display the last digit of a number.\n"
   ]
  },
  {
   "cell_type": "code",
   "execution_count": 12,
   "metadata": {},
   "outputs": [],
   "source": [
    "#Type your code here"
   ]
  },
  {
   "cell_type": "markdown",
   "metadata": {},
   "source": [
    "9) Take values of length and breadth of a rectangle from user and print if it is square or rectangle."
   ]
  },
  {
   "cell_type": "code",
   "execution_count": 65,
   "metadata": {},
   "outputs": [
    {
     "name": "stdin",
     "output_type": "stream",
     "text": [
      "Enter the lenght 2\n",
      "Enter the breadht 3\n"
     ]
    },
    {
     "name": "stdout",
     "output_type": "stream",
     "text": [
      "ITS RECTANGLE\n"
     ]
    }
   ],
   "source": [
    "lenght=int(input(\"Enter the lenght\"))\n",
    "breadht=int(input(\"Enter the breadht\"))\n",
    "if lenght==breadht:\n",
    "    print(\"ITS SQUARE\")\n",
    "else :\n",
    "    print(\"ITS RECTANGLE\")"
   ]
  },
  {
   "cell_type": "markdown",
   "metadata": {},
   "source": [
    "10) Take two int values from user and print greatest among them."
   ]
  },
  {
   "cell_type": "code",
   "execution_count": 69,
   "metadata": {},
   "outputs": [
    {
     "name": "stdin",
     "output_type": "stream",
     "text": [
      "Enter the Amount_1 200\n",
      "Enter the Amount_2 100\n"
     ]
    },
    {
     "name": "stdout",
     "output_type": "stream",
     "text": [
      "AMOUNT 1 IS GREATEST 200\n"
     ]
    }
   ],
   "source": [
    "Amount_1=int(input(\"Enter the Amount_1\"))\n",
    "Amount_2=int(input(\"Enter the Amount_2\"))\n",
    "if Amount_1>=Amount_2:\n",
    "    print(f\"AMOUNT 1 IS GREATEST {Amount_1}\")\n",
    "else :\n",
    "    print(f\"AMOUNT 2 IS GREATEST {Amount_2}\")"
   ]
  },
  {
   "cell_type": "markdown",
   "metadata": {},
   "source": [
    "11) A shop will give discount of 10% if the cost of purchased quantity is more than 1000.\n",
    "Ask user for quantity\n",
    "Suppose, one unit will cost 100.\n",
    "Judge and print total cost for user."
   ]
  },
  {
   "cell_type": "code",
   "execution_count": 70,
   "metadata": {},
   "outputs": [
    {
     "name": "stdin",
     "output_type": "stream",
     "text": [
      "Enter the quantity:  100\n"
     ]
    },
    {
     "name": "stdout",
     "output_type": "stream",
     "text": [
      "The total cost is: 9000.0\n"
     ]
    }
   ],
   "source": [
    "quantity = int(input(\"Enter the quantity: \"))\n",
    "cost_per_unit = 100\n",
    "\n",
    "\n",
    "total_cost = quantity * cost_per_unit\n",
    "\n",
    "\n",
    "if total_cost > 1000:\n",
    "    discount = total_cost * 0.10\n",
    "    total_cost -= discount\n",
    "\n",
    "\n",
    "print(f\"The total cost is: {total_cost}\")"
   ]
  },
  {
   "cell_type": "markdown",
   "metadata": {},
   "source": [
    "12) A school has following rules for grading system:\n",
    "\n",
    "a. Below 25 - F\n",
    "\n",
    "b. 25 to 45 - E\n",
    "\n",
    "c. 45 to 50 - D\n",
    "\n",
    "d. 50 to 60 - C\n",
    "\n",
    "e. 60 to 80 - B\n",
    "\n",
    "f. Above 80 - A\n",
    "\n",
    "Ask user to enter marks and print the corresponding grade."
   ]
  },
  {
   "cell_type": "code",
   "execution_count": 73,
   "metadata": {},
   "outputs": [
    {
     "name": "stdin",
     "output_type": "stream",
     "text": [
      "Enter the marks 35\n"
     ]
    },
    {
     "name": "stdout",
     "output_type": "stream",
     "text": [
      "YOUR GRADE IS E \n"
     ]
    }
   ],
   "source": [
    "marks=int(input(\"Enter the marks\"))\n",
    "if marks>80:\n",
    "    print(\"YOUR GRADE IS A \")\n",
    "elif marks>=60:\n",
    "    print(\"YOUR GRADE IS B \")\n",
    "elif marks>=50:\n",
    "    print(\"YOUR GRADE IS C \")\n",
    "elif marks>=45:\n",
    "    print(\"YOUR GRADE IS D \")\n",
    "elif marks>=25:\n",
    "    print(\"YOUR GRADE IS E \")\n",
    "elif marks<25:\n",
    "    print(\"YOUR GRADE IS F \")    "
   ]
  },
  {
   "cell_type": "markdown",
   "metadata": {},
   "source": [
    "14)A student will not be allowed to sit in exam if his/her attendence is less than 75%.\n",
    "\n",
    "Take following input from user\n",
    "\n",
    "- Number of classes held\n",
    "\n",
    "- Number of classes attended.\n",
    "\n",
    "And print\n",
    "\n",
    "- percentage of class attended\n",
    "\n",
    "- Is student is allowed to sit in exam or not.\n"
   ]
  },
  {
   "cell_type": "code",
   "execution_count": 75,
   "metadata": {},
   "outputs": [
    {
     "name": "stdin",
     "output_type": "stream",
     "text": [
      "Enter the total class 100\n",
      "Enter the class attend 80\n"
     ]
    },
    {
     "name": "stdout",
     "output_type": "stream",
     "text": [
      "80.0\n",
      "YOU ARE ALLOW\n"
     ]
    }
   ],
   "source": [
    "Total_Classes=int(input(\"Enter the total class\"))\n",
    "Classes_attend=int(input(\"Enter the class attend\"))\n",
    "percentage_of_class=(Classes_attend/Total_Classes)*100\n",
    "print(percentage_of_class)\n",
    "if percentage_of_class>=70:\n",
    "\n",
    "   print(\"YOU ARE ALLOW\")\n",
    "else:\n",
    "    print(\"YOU ARE NOT ALLOW\")\n",
    "   "
   ]
  },
  {
   "cell_type": "markdown",
   "metadata": {},
   "source": [
    "15) Modify the above question to allow student to sit if he/she has medical cause. Ask user if he/she has medical cause or not ( 'Y' or 'N' ) and print accordingly."
   ]
  },
  {
   "cell_type": "code",
   "execution_count": 78,
   "metadata": {},
   "outputs": [
    {
     "name": "stdin",
     "output_type": "stream",
     "text": [
      "Enter yu are medical cause YES\n"
     ]
    },
    {
     "name": "stdout",
     "output_type": "stream",
     "text": [
      "YOU ARE NOT ALLOW\n"
     ]
    }
   ],
   "source": [
    "medical_cause=str(input(\"Enter yu are medical cause\"))\n",
    "if percentage_of_class=!\"YES\":\n",
    "\n",
    "   print(\"YOU ARE ALLOW\")\n",
    "else:\n",
    "    print(\"YOU ARE NOT ALLOW\")"
   ]
  },
  {
   "cell_type": "markdown",
   "metadata": {},
   "source": [
    "16) Write a program to check if a year is leap year or not.\n",
    "\n",
    "If a year is divisible by 4 then it is leap year but if the year is century year like 2000, 1900, 2100 then it must be divisible by 400."
   ]
  },
  {
   "cell_type": "code",
   "execution_count": 81,
   "metadata": {},
   "outputs": [
    {
     "name": "stdin",
     "output_type": "stream",
     "text": [
      "Enter a year:  2004\n"
     ]
    },
    {
     "name": "stdout",
     "output_type": "stream",
     "text": [
      "2004 is a leap year.\n"
     ]
    }
   ],
   "source": [
    "year = int(input(\"Enter a year: \"))\n",
    "\n",
    "\n",
    "if (year % 4 == 0 and year % 100 != 0) or (year % 400 == 0):\n",
    "    print(f\"{year} is a leap year.\")\n",
    "else:\n",
    "    print(f\"{year} is not a leap year.\")"
   ]
  },
  {
   "cell_type": "markdown",
   "metadata": {},
   "source": [
    "17) Ask user to enter age, gender ( M or F ), marital status ( Y or N ) and then using following rules print their place of service.\n",
    "\n",
    "if employee is female, then she will work only in urban areas.\n",
    "\n",
    "if employee is a male and age is in between 20 to 40 then he may work in anywhere\n",
    "\n",
    "if employee is male and age is in between 40 t0 60 then he will work in urban areas only.\n",
    "\n",
    "And any other input of age should print \"ERROR\""
   ]
  },
  {
   "cell_type": "code",
   "execution_count": 82,
   "metadata": {},
   "outputs": [
    {
     "name": "stdin",
     "output_type": "stream",
     "text": [
      "Enter your age:  50\n",
      "Enter your gender (M or F):  M\n",
      "Enter your marital status (Y or N):  Y\n"
     ]
    },
    {
     "name": "stdout",
     "output_type": "stream",
     "text": [
      "Place of service: urban areas\n"
     ]
    }
   ],
   "source": [
    "age = int(input(\"Enter your age: \"))\n",
    "gender = input(\"Enter your gender (M or F): \").upper()\n",
    "marital_status = input(\"Enter your marital status (Y or N): \").upper()\n",
    "\n",
    "\n",
    "if gender == \"F\":\n",
    "    place_of_service = \"urban areas\"\n",
    "elif gender == \"M\":\n",
    "    if 20 <= age <= 40:\n",
    "        place_of_service = \"anywhere\"\n",
    "    elif 40 < age <= 60:\n",
    "        place_of_service = \"urban areas\"\n",
    "    else:\n",
    "        place_of_service = \"ERROR\"\n",
    "else:\n",
    "    place_of_service = \"ERROR\"\n",
    "\n",
    "print(f\"Place of service: {place_of_service}\")"
   ]
  },
  {
   "cell_type": "markdown",
   "metadata": {},
   "source": [
    "13) Take input of age of 3 people by user and determine oldest and youngest among them."
   ]
  },
  {
   "cell_type": "markdown",
   "metadata": {},
   "source": [
    "6) Write a program to calculate the electricity bill (accept number of unit from user) according to the following criteria :\n",
    "     Unit                                                     Price  \n",
    "uptp 100 units                                             no charge\n",
    "Next 200 units                                              Rs 5 per unit\n",
    "After 200 units                                             Rs 10 per unit\n",
    "(For example if input unit is 350 than total bill amount is Rs.3500\n",
    "(For example if input unit is 97 than total bill amount is Rs.0\n",
    "(For example if input unit is 150 than total bill amount is Rs.750"
   ]
  },
  {
   "cell_type": "code",
   "execution_count": 80,
   "metadata": {},
   "outputs": [
    {
     "name": "stdin",
     "output_type": "stream",
     "text": [
      "Enter the number of units:  250\n"
     ]
    },
    {
     "name": "stdout",
     "output_type": "stream",
     "text": [
      "The total bill amount is Rs. 750\n"
     ]
    }
   ],
   "source": [
    "units = int(input(\"Enter the number of units: \"))\n",
    "bill_amount = 0\n",
    "\n",
    "\n",
    "if units <= 100:\n",
    "    bill_amount = 0\n",
    "elif units <= 300:\n",
    "    bill_amount = (units - 100) * 5\n",
    "else:\n",
    "    bill_amount = (200 * 5) + ((units - 300) * 10)\n",
    "\n",
    "print(f\"The total bill amount is Rs. {bill_amount}\")"
   ]
  },
  {
   "cell_type": "code",
   "execution_count": null,
   "metadata": {},
   "outputs": [],
   "source": []
  }
 ],
 "metadata": {
  "kernelspec": {
   "display_name": "Python 3 (ipykernel)",
   "language": "python",
   "name": "python3"
  },
  "language_info": {
   "codemirror_mode": {
    "name": "ipython",
    "version": 3
   },
   "file_extension": ".py",
   "mimetype": "text/x-python",
   "name": "python",
   "nbconvert_exporter": "python",
   "pygments_lexer": "ipython3",
   "version": "3.11.7"
  }
 },
 "nbformat": 4,
 "nbformat_minor": 4
}
